{
  "nbformat": 4,
  "nbformat_minor": 0,
  "metadata": {
    "colab": {
      "provenance": [],
      "authorship_tag": "ABX9TyM/USow6y2YuVtpRg0er2Ty",
      "include_colab_link": true
    },
    "kernelspec": {
      "name": "python3",
      "display_name": "Python 3"
    },
    "language_info": {
      "name": "python"
    }
  },
  "cells": [
    {
      "cell_type": "markdown",
      "metadata": {
        "id": "view-in-github",
        "colab_type": "text"
      },
      "source": [
        "<a href=\"https://colab.research.google.com/github/FaustoFLES/Programacion-Analitica/blob/main/Practica_4_Manipulaci%C3%B3n_de_matrices.ipynb\" target=\"_parent\"><img src=\"https://colab.research.google.com/assets/colab-badge.svg\" alt=\"Open In Colab\"/></a>"
      ]
    },
    {
      "cell_type": "code",
      "execution_count": 1,
      "metadata": {
        "colab": {
          "base_uri": "https://localhost:8080/",
          "height": 520
        },
        "id": "PvfyFxT0KyPf",
        "outputId": "e52822bd-ee1e-4f1e-9e98-841ff75a91d3"
      },
      "outputs": [
        {
          "output_type": "stream",
          "name": "stdout",
          "text": [
            "Matriz 1:\n"
          ]
        },
        {
          "output_type": "display_data",
          "data": {
            "text/plain": [
              "array([[9, 2, 7],\n",
              "       [9, 8, 7],\n",
              "       [4, 8, 4]])"
            ]
          },
          "metadata": {}
        },
        {
          "output_type": "stream",
          "name": "stdout",
          "text": [
            "\n",
            "Matriz 2:\n"
          ]
        },
        {
          "output_type": "display_data",
          "data": {
            "text/plain": [
              "array([[ 3,  5,  2],\n",
              "       [ 4,  9,  9],\n",
              "       [10,  4,  6]])"
            ]
          },
          "metadata": {}
        },
        {
          "output_type": "stream",
          "name": "stdout",
          "text": [
            "\n",
            "Suma de las matrices:\n"
          ]
        },
        {
          "output_type": "display_data",
          "data": {
            "text/plain": [
              "array([[12,  7,  9],\n",
              "       [13, 17, 16],\n",
              "       [14, 12, 10]])"
            ]
          },
          "metadata": {}
        },
        {
          "output_type": "stream",
          "name": "stdout",
          "text": [
            "\n",
            "Resta de la segunda matriz de la primera:\n"
          ]
        },
        {
          "output_type": "display_data",
          "data": {
            "text/plain": [
              "array([[ 6, -3,  5],\n",
              "       [ 5, -1, -2],\n",
              "       [-6,  4, -2]])"
            ]
          },
          "metadata": {}
        },
        {
          "output_type": "stream",
          "name": "stdout",
          "text": [
            "\n",
            "Multiplicación de la primera matriz por 2:\n"
          ]
        },
        {
          "output_type": "display_data",
          "data": {
            "text/plain": [
              "array([[18,  4, 14],\n",
              "       [18, 16, 14],\n",
              "       [ 8, 16,  8]])"
            ]
          },
          "metadata": {}
        },
        {
          "output_type": "stream",
          "name": "stdout",
          "text": [
            "\n",
            "Multiplicación matricial de las dos matrices:\n"
          ]
        },
        {
          "output_type": "display_data",
          "data": {
            "text/plain": [
              "array([[105,  91,  78],\n",
              "       [129, 145, 132],\n",
              "       [ 84, 108, 104]])"
            ]
          },
          "metadata": {}
        }
      ],
      "source": [
        "import numpy as np\n",
        "\n",
        "# Crea la primera matriz de 3x3 con números aleatorios entre 1 y 10\n",
        "matrix1 = np.random.randint(1, 11, size=(3, 3))\n",
        "\n",
        "# Crea la segunda matriz de 3x3 con números aleatorios entre 1 y 10\n",
        "matrix2 = np.random.randint(1, 11, size=(3, 3))\n",
        "\n",
        "# Muestra las matrices\n",
        "print(\"Matriz 1:\")\n",
        "display(matrix1)\n",
        "\n",
        "print(\"\\nMatriz 2:\")\n",
        "display(matrix2)\n",
        "\n",
        "# Suma las matrices\n",
        "sum_matrix = matrix1 + matrix2\n",
        "\n",
        "# Muestra la matriz resultante de la suma\n",
        "print(\"\\nSuma de las matrices:\")\n",
        "display(sum_matrix)\n",
        "\n",
        "# Resta la segunda matriz de la primera\n",
        "subtract_matrix = matrix1 - matrix2\n",
        "\n",
        "# Muestra la matriz resultante de la resta\n",
        "print(\"\\nResta de la segunda matriz de la primera:\")\n",
        "display(subtract_matrix)\n",
        "\n",
        "# Multiplica la primera matriz por 2\n",
        "multiply_matrix = matrix1 * 2\n",
        "\n",
        "# Muestra la matriz resultante de la multiplicación\n",
        "print(\"\\nMultiplicación de la primera matriz por 2:\")\n",
        "display(multiply_matrix)\n",
        "\n",
        "# Multiplicación matricial entre las dos matrices\n",
        "matrix_multiply = matrix1 @ matrix2\n",
        "\n",
        "# Muestra la matriz resultante de la multiplicación matricial\n",
        "print(\"\\nMultiplicación matricial de las dos matrices:\")\n",
        "display(matrix_multiply)"
      ]
    }
  ]
}