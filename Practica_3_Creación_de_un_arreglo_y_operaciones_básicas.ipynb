{
  "nbformat": 4,
  "nbformat_minor": 0,
  "metadata": {
    "colab": {
      "provenance": [],
      "authorship_tag": "ABX9TyOhjNgWdb7jzIazy7S4wnk1",
      "include_colab_link": true
    },
    "kernelspec": {
      "name": "python3",
      "display_name": "Python 3"
    },
    "language_info": {
      "name": "python"
    }
  },
  "cells": [
    {
      "cell_type": "markdown",
      "metadata": {
        "id": "view-in-github",
        "colab_type": "text"
      },
      "source": [
        "<a href=\"https://colab.research.google.com/github/FaustoFLES/Programacion-Analitica/blob/main/Practica_3_Creaci%C3%B3n_de_un_arreglo_y_operaciones_b%C3%A1sicas.ipynb\" target=\"_parent\"><img src=\"https://colab.research.google.com/assets/colab-badge.svg\" alt=\"Open In Colab\"/></a>"
      ]
    },
    {
      "cell_type": "code",
      "execution_count": 2,
      "metadata": {
        "colab": {
          "base_uri": "https://localhost:8080/"
        },
        "id": "uw8p9-tiJ648",
        "outputId": "039fcc07-dda8-414b-e617-85882bd2b494"
      },
      "outputs": [
        {
          "output_type": "stream",
          "name": "stdout",
          "text": [
            "[ 49  84 100  56  85  27  15  20  47  81  99   4  33  68  92  66  30  79\n",
            "  97  37]\n",
            "100\n",
            "4\n",
            "58.45\n",
            "29.902299242700384\n",
            "[ 59  94 110  66  95  37  25  30  57  91 109  14  43  78 102  76  40  89\n",
            " 107  47]\n",
            "[ 98 168 200 112 170  54  30  40  94 162 198   8  66 136 184 132  60 158\n",
            " 194  74]\n"
          ]
        }
      ],
      "source": [
        "#Crea un arreglo unidimensional de 20 elementos con valores aleatorios entre 1 y 100\n",
        "import numpy as np\n",
        "arreglo = np.random.randint(1, 101, 20)\n",
        "print(arreglo)\n",
        "\n",
        "#Encuentra el valor máximo del arreglo\n",
        "maximo = np.max(arreglo)\n",
        "print(maximo)\n",
        "\n",
        "#Encuentra el valor mínimo del arreglo\n",
        "minimo = np.min(arreglo)\n",
        "print(minimo)\n",
        "\n",
        "#Calcula la media del arreglo\n",
        "media = np.mean(arreglo)\n",
        "print(media)\n",
        "\n",
        "#Calcula la desviación estándar del arreglo\n",
        "desviacion = np.std(arreglo)\n",
        "print(desviacion)\n",
        "\n",
        "#Suma 10 a cada elemento del arreglo\n",
        "suma = arreglo + 10\n",
        "print(suma)\n",
        "\n",
        "#Multiplica cada elemento del arreglo por 2\n",
        "multiplicacion = arreglo * 2\n",
        "print(multiplicacion)"
      ]
    }
  ]
}