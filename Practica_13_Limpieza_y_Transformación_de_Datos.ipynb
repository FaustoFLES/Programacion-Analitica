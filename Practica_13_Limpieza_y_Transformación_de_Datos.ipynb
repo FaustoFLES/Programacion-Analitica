{
  "nbformat": 4,
  "nbformat_minor": 0,
  "metadata": {
    "colab": {
      "provenance": [],
      "mount_file_id": "1k2Pqimzd8ycufFm42xtb7TPN_Bb2_89Q",
      "authorship_tag": "ABX9TyOKKqSzOhGayafmnqU/554m",
      "include_colab_link": true
    },
    "kernelspec": {
      "name": "python3",
      "display_name": "Python 3"
    },
    "language_info": {
      "name": "python"
    }
  },
  "cells": [
    {
      "cell_type": "markdown",
      "metadata": {
        "id": "view-in-github",
        "colab_type": "text"
      },
      "source": [
        "<a href=\"https://colab.research.google.com/github/FaustoFLES/Programacion-Analitica/blob/main/Practica_13_Limpieza_y_Transformaci%C3%B3n_de_Datos.ipynb\" target=\"_parent\"><img src=\"https://colab.research.google.com/assets/colab-badge.svg\" alt=\"Open In Colab\"/></a>"
      ]
    },
    {
      "cell_type": "markdown",
      "source": [
        "# **Practica # 13. Limpieza y Transformación de Datos**"
      ],
      "metadata": {
        "id": "_rhYI2n_x5Jl"
      }
    },
    {
      "cell_type": "code",
      "execution_count": 2,
      "metadata": {
        "id": "CKz94pOPx3fu"
      },
      "outputs": [],
      "source": [
        "#cargar archivo\n",
        "import pandas as pd\n",
        "df = pd.read_csv(\"/content/drive/MyDrive/Escuela/Maestria/3er Semestre/Programacion Analitica/Class data/miaad-nyc-r-s.csv\", skipfooter=1, engine='python')"
      ]
    },
    {
      "cell_type": "code",
      "metadata": {
        "colab": {
          "base_uri": "https://localhost:8080/",
          "height": 436
        },
        "id": "9a8a6d52",
        "outputId": "0b9c51aa-c689-4e79-dbf4-567217accb8e"
      },
      "source": [
        "display(df.tail(3))"
      ],
      "execution_count": 3,
      "outputs": [
        {
          "output_type": "display_data",
          "data": {
            "text/plain": [
              "       Unnamed: 0  BOROUGH NEIGHBORHOOD  \\\n",
              "84545        8411        5      WOODROW   \n",
              "84546        8412        5      WOODROW   \n",
              "84547        8413        5      WOODROW   \n",
              "\n",
              "                           BUILDING CLASS CATEGORY TAX CLASS AT PRESENT  \\\n",
              "84545  02 TWO FAMILY DWELLINGS                                        1   \n",
              "84546  22 STORE BUILDINGS                                             4   \n",
              "84547  35 INDOOR PUBLIC AND CULTURAL FACILITIES                       4   \n",
              "\n",
              "       BLOCK  LOT EASE-MENT BUILDING CLASS AT PRESENT                ADDRESS  \\\n",
              "84545   7351   60                                  B2       49 PITNEY AVENUE   \n",
              "84546   7100   28                                  K6  2730 ARTHUR KILL ROAD   \n",
              "84547   7105  679                                  P9      155 CLAY PIT ROAD   \n",
              "\n",
              "       ... RESIDENTIAL UNITS  COMMERCIAL UNITS  TOTAL UNITS  LAND SQUARE FEET  \\\n",
              "84545  ...                 2                 0            2              4000   \n",
              "84546  ...                 0                 7            7            208033   \n",
              "84547  ...                 0                 1            1             10796   \n",
              "\n",
              "       GROSS SQUARE FEET YEAR BUILT TAX CLASS AT TIME OF SALE  \\\n",
              "84545               1496       1925                         1   \n",
              "84546              64117       2001                         4   \n",
              "84547               2400       2006                         4   \n",
              "\n",
              "       BUILDING CLASS AT TIME OF SALE  SALE PRICE            SALE DATE  \n",
              "84545                              B2      460000  2017-07-05 00:00:00  \n",
              "84546                              K6    11693337  2016-12-21 00:00:00  \n",
              "84547                              P9       69300  2016-10-27 00:00:00  \n",
              "\n",
              "[3 rows x 22 columns]"
            ],
            "text/html": [
              "\n",
              "  <div id=\"df-50610240-d9e4-4e0d-afce-8e46db899691\" class=\"colab-df-container\">\n",
              "    <div>\n",
              "<style scoped>\n",
              "    .dataframe tbody tr th:only-of-type {\n",
              "        vertical-align: middle;\n",
              "    }\n",
              "\n",
              "    .dataframe tbody tr th {\n",
              "        vertical-align: top;\n",
              "    }\n",
              "\n",
              "    .dataframe thead th {\n",
              "        text-align: right;\n",
              "    }\n",
              "</style>\n",
              "<table border=\"1\" class=\"dataframe\">\n",
              "  <thead>\n",
              "    <tr style=\"text-align: right;\">\n",
              "      <th></th>\n",
              "      <th>Unnamed: 0</th>\n",
              "      <th>BOROUGH</th>\n",
              "      <th>NEIGHBORHOOD</th>\n",
              "      <th>BUILDING CLASS CATEGORY</th>\n",
              "      <th>TAX CLASS AT PRESENT</th>\n",
              "      <th>BLOCK</th>\n",
              "      <th>LOT</th>\n",
              "      <th>EASE-MENT</th>\n",
              "      <th>BUILDING CLASS AT PRESENT</th>\n",
              "      <th>ADDRESS</th>\n",
              "      <th>...</th>\n",
              "      <th>RESIDENTIAL UNITS</th>\n",
              "      <th>COMMERCIAL UNITS</th>\n",
              "      <th>TOTAL UNITS</th>\n",
              "      <th>LAND SQUARE FEET</th>\n",
              "      <th>GROSS SQUARE FEET</th>\n",
              "      <th>YEAR BUILT</th>\n",
              "      <th>TAX CLASS AT TIME OF SALE</th>\n",
              "      <th>BUILDING CLASS AT TIME OF SALE</th>\n",
              "      <th>SALE PRICE</th>\n",
              "      <th>SALE DATE</th>\n",
              "    </tr>\n",
              "  </thead>\n",
              "  <tbody>\n",
              "    <tr>\n",
              "      <th>84545</th>\n",
              "      <td>8411</td>\n",
              "      <td>5</td>\n",
              "      <td>WOODROW</td>\n",
              "      <td>02 TWO FAMILY DWELLINGS</td>\n",
              "      <td>1</td>\n",
              "      <td>7351</td>\n",
              "      <td>60</td>\n",
              "      <td></td>\n",
              "      <td>B2</td>\n",
              "      <td>49 PITNEY AVENUE</td>\n",
              "      <td>...</td>\n",
              "      <td>2</td>\n",
              "      <td>0</td>\n",
              "      <td>2</td>\n",
              "      <td>4000</td>\n",
              "      <td>1496</td>\n",
              "      <td>1925</td>\n",
              "      <td>1</td>\n",
              "      <td>B2</td>\n",
              "      <td>460000</td>\n",
              "      <td>2017-07-05 00:00:00</td>\n",
              "    </tr>\n",
              "    <tr>\n",
              "      <th>84546</th>\n",
              "      <td>8412</td>\n",
              "      <td>5</td>\n",
              "      <td>WOODROW</td>\n",
              "      <td>22 STORE BUILDINGS</td>\n",
              "      <td>4</td>\n",
              "      <td>7100</td>\n",
              "      <td>28</td>\n",
              "      <td></td>\n",
              "      <td>K6</td>\n",
              "      <td>2730 ARTHUR KILL ROAD</td>\n",
              "      <td>...</td>\n",
              "      <td>0</td>\n",
              "      <td>7</td>\n",
              "      <td>7</td>\n",
              "      <td>208033</td>\n",
              "      <td>64117</td>\n",
              "      <td>2001</td>\n",
              "      <td>4</td>\n",
              "      <td>K6</td>\n",
              "      <td>11693337</td>\n",
              "      <td>2016-12-21 00:00:00</td>\n",
              "    </tr>\n",
              "    <tr>\n",
              "      <th>84547</th>\n",
              "      <td>8413</td>\n",
              "      <td>5</td>\n",
              "      <td>WOODROW</td>\n",
              "      <td>35 INDOOR PUBLIC AND CULTURAL FACILITIES</td>\n",
              "      <td>4</td>\n",
              "      <td>7105</td>\n",
              "      <td>679</td>\n",
              "      <td></td>\n",
              "      <td>P9</td>\n",
              "      <td>155 CLAY PIT ROAD</td>\n",
              "      <td>...</td>\n",
              "      <td>0</td>\n",
              "      <td>1</td>\n",
              "      <td>1</td>\n",
              "      <td>10796</td>\n",
              "      <td>2400</td>\n",
              "      <td>2006</td>\n",
              "      <td>4</td>\n",
              "      <td>P9</td>\n",
              "      <td>69300</td>\n",
              "      <td>2016-10-27 00:00:00</td>\n",
              "    </tr>\n",
              "  </tbody>\n",
              "</table>\n",
              "<p>3 rows × 22 columns</p>\n",
              "</div>\n",
              "    <div class=\"colab-df-buttons\">\n",
              "\n",
              "  <div class=\"colab-df-container\">\n",
              "    <button class=\"colab-df-convert\" onclick=\"convertToInteractive('df-50610240-d9e4-4e0d-afce-8e46db899691')\"\n",
              "            title=\"Convert this dataframe to an interactive table.\"\n",
              "            style=\"display:none;\">\n",
              "\n",
              "  <svg xmlns=\"http://www.w3.org/2000/svg\" height=\"24px\" viewBox=\"0 -960 960 960\">\n",
              "    <path d=\"M120-120v-720h720v720H120Zm60-500h600v-160H180v160Zm220 220h160v-160H400v160Zm0 220h160v-160H400v160ZM180-400h160v-160H180v160Zm440 0h160v-160H620v160ZM180-180h160v-160H180v160Zm440 0h160v-160H620v160Z\"/>\n",
              "  </svg>\n",
              "    </button>\n",
              "\n",
              "  <style>\n",
              "    .colab-df-container {\n",
              "      display:flex;\n",
              "      gap: 12px;\n",
              "    }\n",
              "\n",
              "    .colab-df-convert {\n",
              "      background-color: #E8F0FE;\n",
              "      border: none;\n",
              "      border-radius: 50%;\n",
              "      cursor: pointer;\n",
              "      display: none;\n",
              "      fill: #1967D2;\n",
              "      height: 32px;\n",
              "      padding: 0 0 0 0;\n",
              "      width: 32px;\n",
              "    }\n",
              "\n",
              "    .colab-df-convert:hover {\n",
              "      background-color: #E2EBFA;\n",
              "      box-shadow: 0px 1px 2px rgba(60, 64, 67, 0.3), 0px 1px 3px 1px rgba(60, 64, 67, 0.15);\n",
              "      fill: #174EA6;\n",
              "    }\n",
              "\n",
              "    .colab-df-buttons div {\n",
              "      margin-bottom: 4px;\n",
              "    }\n",
              "\n",
              "    [theme=dark] .colab-df-convert {\n",
              "      background-color: #3B4455;\n",
              "      fill: #D2E3FC;\n",
              "    }\n",
              "\n",
              "    [theme=dark] .colab-df-convert:hover {\n",
              "      background-color: #434B5C;\n",
              "      box-shadow: 0px 1px 3px 1px rgba(0, 0, 0, 0.15);\n",
              "      filter: drop-shadow(0px 1px 2px rgba(0, 0, 0, 0.3));\n",
              "      fill: #FFFFFF;\n",
              "    }\n",
              "  </style>\n",
              "\n",
              "    <script>\n",
              "      const buttonEl =\n",
              "        document.querySelector('#df-50610240-d9e4-4e0d-afce-8e46db899691 button.colab-df-convert');\n",
              "      buttonEl.style.display =\n",
              "        google.colab.kernel.accessAllowed ? 'block' : 'none';\n",
              "\n",
              "      async function convertToInteractive(key) {\n",
              "        const element = document.querySelector('#df-50610240-d9e4-4e0d-afce-8e46db899691');\n",
              "        const dataTable =\n",
              "          await google.colab.kernel.invokeFunction('convertToInteractive',\n",
              "                                                    [key], {});\n",
              "        if (!dataTable) return;\n",
              "\n",
              "        const docLinkHtml = 'Like what you see? Visit the ' +\n",
              "          '<a target=\"_blank\" href=https://colab.research.google.com/notebooks/data_table.ipynb>data table notebook</a>'\n",
              "          + ' to learn more about interactive tables.';\n",
              "        element.innerHTML = '';\n",
              "        dataTable['output_type'] = 'display_data';\n",
              "        await google.colab.output.renderOutput(dataTable, element);\n",
              "        const docLink = document.createElement('div');\n",
              "        docLink.innerHTML = docLinkHtml;\n",
              "        element.appendChild(docLink);\n",
              "      }\n",
              "    </script>\n",
              "  </div>\n",
              "\n",
              "\n",
              "    <div id=\"df-b0379f7c-4e75-4e75-a1eb-a54081f0fb84\">\n",
              "      <button class=\"colab-df-quickchart\" onclick=\"quickchart('df-b0379f7c-4e75-4e75-a1eb-a54081f0fb84')\"\n",
              "                title=\"Suggest charts\"\n",
              "                style=\"display:none;\">\n",
              "\n",
              "<svg xmlns=\"http://www.w3.org/2000/svg\" height=\"24px\"viewBox=\"0 0 24 24\"\n",
              "     width=\"24px\">\n",
              "    <g>\n",
              "        <path d=\"M19 3H5c-1.1 0-2 .9-2 2v14c0 1.1.9 2 2 2h14c1.1 0 2-.9 2-2V5c0-1.1-.9-2-2-2zM9 17H7v-7h2v7zm4 0h-2V7h2v10zm4 0h-2v-4h2v4z\"/>\n",
              "    </g>\n",
              "</svg>\n",
              "      </button>\n",
              "\n",
              "<style>\n",
              "  .colab-df-quickchart {\n",
              "      --bg-color: #E8F0FE;\n",
              "      --fill-color: #1967D2;\n",
              "      --hover-bg-color: #E2EBFA;\n",
              "      --hover-fill-color: #174EA6;\n",
              "      --disabled-fill-color: #AAA;\n",
              "      --disabled-bg-color: #DDD;\n",
              "  }\n",
              "\n",
              "  [theme=dark] .colab-df-quickchart {\n",
              "      --bg-color: #3B4455;\n",
              "      --fill-color: #D2E3FC;\n",
              "      --hover-bg-color: #434B5C;\n",
              "      --hover-fill-color: #FFFFFF;\n",
              "      --disabled-bg-color: #3B4455;\n",
              "      --disabled-fill-color: #666;\n",
              "  }\n",
              "\n",
              "  .colab-df-quickchart {\n",
              "    background-color: var(--bg-color);\n",
              "    border: none;\n",
              "    border-radius: 50%;\n",
              "    cursor: pointer;\n",
              "    display: none;\n",
              "    fill: var(--fill-color);\n",
              "    height: 32px;\n",
              "    padding: 0;\n",
              "    width: 32px;\n",
              "  }\n",
              "\n",
              "  .colab-df-quickchart:hover {\n",
              "    background-color: var(--hover-bg-color);\n",
              "    box-shadow: 0 1px 2px rgba(60, 64, 67, 0.3), 0 1px 3px 1px rgba(60, 64, 67, 0.15);\n",
              "    fill: var(--button-hover-fill-color);\n",
              "  }\n",
              "\n",
              "  .colab-df-quickchart-complete:disabled,\n",
              "  .colab-df-quickchart-complete:disabled:hover {\n",
              "    background-color: var(--disabled-bg-color);\n",
              "    fill: var(--disabled-fill-color);\n",
              "    box-shadow: none;\n",
              "  }\n",
              "\n",
              "  .colab-df-spinner {\n",
              "    border: 2px solid var(--fill-color);\n",
              "    border-color: transparent;\n",
              "    border-bottom-color: var(--fill-color);\n",
              "    animation:\n",
              "      spin 1s steps(1) infinite;\n",
              "  }\n",
              "\n",
              "  @keyframes spin {\n",
              "    0% {\n",
              "      border-color: transparent;\n",
              "      border-bottom-color: var(--fill-color);\n",
              "      border-left-color: var(--fill-color);\n",
              "    }\n",
              "    20% {\n",
              "      border-color: transparent;\n",
              "      border-left-color: var(--fill-color);\n",
              "      border-top-color: var(--fill-color);\n",
              "    }\n",
              "    30% {\n",
              "      border-color: transparent;\n",
              "      border-left-color: var(--fill-color);\n",
              "      border-top-color: var(--fill-color);\n",
              "      border-right-color: var(--fill-color);\n",
              "    }\n",
              "    40% {\n",
              "      border-color: transparent;\n",
              "      border-right-color: var(--fill-color);\n",
              "      border-top-color: var(--fill-color);\n",
              "    }\n",
              "    60% {\n",
              "      border-color: transparent;\n",
              "      border-right-color: var(--fill-color);\n",
              "    }\n",
              "    80% {\n",
              "      border-color: transparent;\n",
              "      border-right-color: var(--fill-color);\n",
              "      border-bottom-color: var(--fill-color);\n",
              "    }\n",
              "    90% {\n",
              "      border-color: transparent;\n",
              "      border-bottom-color: var(--fill-color);\n",
              "    }\n",
              "  }\n",
              "</style>\n",
              "\n",
              "      <script>\n",
              "        async function quickchart(key) {\n",
              "          const quickchartButtonEl =\n",
              "            document.querySelector('#' + key + ' button');\n",
              "          quickchartButtonEl.disabled = true;  // To prevent multiple clicks.\n",
              "          quickchartButtonEl.classList.add('colab-df-spinner');\n",
              "          try {\n",
              "            const charts = await google.colab.kernel.invokeFunction(\n",
              "                'suggestCharts', [key], {});\n",
              "          } catch (error) {\n",
              "            console.error('Error during call to suggestCharts:', error);\n",
              "          }\n",
              "          quickchartButtonEl.classList.remove('colab-df-spinner');\n",
              "          quickchartButtonEl.classList.add('colab-df-quickchart-complete');\n",
              "        }\n",
              "        (() => {\n",
              "          let quickchartButtonEl =\n",
              "            document.querySelector('#df-b0379f7c-4e75-4e75-a1eb-a54081f0fb84 button');\n",
              "          quickchartButtonEl.style.display =\n",
              "            google.colab.kernel.accessAllowed ? 'block' : 'none';\n",
              "        })();\n",
              "      </script>\n",
              "    </div>\n",
              "\n",
              "    </div>\n",
              "  </div>\n"
            ],
            "application/vnd.google.colaboratory.intrinsic+json": {
              "type": "dataframe"
            }
          },
          "metadata": {}
        }
      ]
    },
    {
      "cell_type": "code",
      "metadata": {
        "colab": {
          "base_uri": "https://localhost:8080/"
        },
        "id": "c55dcccc",
        "outputId": "c43fdf03-cc1e-4793-ed43-3f3a1be49580"
      },
      "source": [
        "print(\"Cantidad de filas y columnas:\", df.shape)"
      ],
      "execution_count": 4,
      "outputs": [
        {
          "output_type": "stream",
          "name": "stdout",
          "text": [
            "Cantidad de filas y columnas: (84548, 22)\n"
          ]
        }
      ]
    },
    {
      "cell_type": "code",
      "metadata": {
        "colab": {
          "base_uri": "https://localhost:8080/"
        },
        "id": "a51e720c",
        "outputId": "f0fd98af-3234-4327-e57f-bd3aa71bc028"
      },
      "source": [
        "print(\"Nombres de las columnas:\", df.columns.tolist())"
      ],
      "execution_count": 5,
      "outputs": [
        {
          "output_type": "stream",
          "name": "stdout",
          "text": [
            "Nombres de las columnas: ['Unnamed: 0', 'BOROUGH', 'NEIGHBORHOOD', 'BUILDING CLASS CATEGORY', 'TAX CLASS AT PRESENT', 'BLOCK', 'LOT', 'EASE-MENT', 'BUILDING CLASS AT PRESENT', 'ADDRESS', 'APARTMENT NUMBER', 'ZIP CODE', 'RESIDENTIAL UNITS', 'COMMERCIAL UNITS', 'TOTAL UNITS', 'LAND SQUARE FEET', 'GROSS SQUARE FEET', 'YEAR BUILT', 'TAX CLASS AT TIME OF SALE', 'BUILDING CLASS AT TIME OF SALE', 'SALE PRICE', 'SALE DATE']\n"
          ]
        }
      ]
    },
    {
      "cell_type": "code",
      "metadata": {
        "colab": {
          "base_uri": "https://localhost:8080/"
        },
        "id": "14d2c29b",
        "outputId": "0f7dfd12-f837-4633-df82-840390f72cd3"
      },
      "source": [
        "df = df.rename(columns={'Unnamed: 0': 'INDEX MIIAD'})\n",
        "print(\"Nombres de las columnas después de renombrar:\", df.columns.tolist())"
      ],
      "execution_count": 6,
      "outputs": [
        {
          "output_type": "stream",
          "name": "stdout",
          "text": [
            "Nombres de las columnas después de renombrar: ['INDEX MIIAD', 'BOROUGH', 'NEIGHBORHOOD', 'BUILDING CLASS CATEGORY', 'TAX CLASS AT PRESENT', 'BLOCK', 'LOT', 'EASE-MENT', 'BUILDING CLASS AT PRESENT', 'ADDRESS', 'APARTMENT NUMBER', 'ZIP CODE', 'RESIDENTIAL UNITS', 'COMMERCIAL UNITS', 'TOTAL UNITS', 'LAND SQUARE FEET', 'GROSS SQUARE FEET', 'YEAR BUILT', 'TAX CLASS AT TIME OF SALE', 'BUILDING CLASS AT TIME OF SALE', 'SALE PRICE', 'SALE DATE']\n"
          ]
        }
      ]
    },
    {
      "cell_type": "code",
      "metadata": {
        "colab": {
          "base_uri": "https://localhost:8080/"
        },
        "id": "9b54b271",
        "outputId": "fb0c41cd-2f3b-46c8-aa39-426c62dcd686"
      },
      "source": [
        "df.columns = df.columns.str.lower().str.replace(' ', '_')\n",
        "print(\"Nombres de las columnas normalizados:\", df.columns.tolist())"
      ],
      "execution_count": 7,
      "outputs": [
        {
          "output_type": "stream",
          "name": "stdout",
          "text": [
            "Nombres de las columnas normalizados: ['index_miiad', 'borough', 'neighborhood', 'building_class_category', 'tax_class_at_present', 'block', 'lot', 'ease-ment', 'building_class_at_present', 'address', 'apartment_number', 'zip_code', 'residential_units', 'commercial_units', 'total_units', 'land_square_feet', 'gross_square_feet', 'year_built', 'tax_class_at_time_of_sale', 'building_class_at_time_of_sale', 'sale_price', 'sale_date']\n"
          ]
        }
      ]
    },
    {
      "cell_type": "code",
      "metadata": {
        "colab": {
          "base_uri": "https://localhost:8080/"
        },
        "id": "01feae84",
        "outputId": "e65617e7-464d-46b4-be36-9061ba148069"
      },
      "source": [
        "print(\"Tipos de datos de las columnas:\")\n",
        "print(df.dtypes)"
      ],
      "execution_count": 9,
      "outputs": [
        {
          "output_type": "stream",
          "name": "stdout",
          "text": [
            "Tipos de datos de las columnas:\n",
            "index_miiad                        int64\n",
            "borough                            int64\n",
            "neighborhood                      object\n",
            "building_class_category           object\n",
            "tax_class_at_present              object\n",
            "block                              int64\n",
            "lot                                int64\n",
            "ease-ment                         object\n",
            "building_class_at_present         object\n",
            "address                           object\n",
            "apartment_number                  object\n",
            "zip_code                           int64\n",
            "residential_units                  int64\n",
            "commercial_units                   int64\n",
            "total_units                        int64\n",
            "land_square_feet                  object\n",
            "gross_square_feet                 object\n",
            "year_built                         int64\n",
            "tax_class_at_time_of_sale          int64\n",
            "building_class_at_time_of_sale    object\n",
            "sale_price                        object\n",
            "sale_date                         object\n",
            "dtype: object\n"
          ]
        }
      ]
    },
    {
      "cell_type": "code",
      "metadata": {
        "colab": {
          "base_uri": "https://localhost:8080/"
        },
        "id": "717e3ab9",
        "outputId": "51ab438e-2682-4415-cbf9-61ab3c9c9e63"
      },
      "source": [
        "columns_to_convert = ['sale_price', 'land_square_feet', 'gross_square_feet']\n",
        "for col in columns_to_convert:\n",
        "    df[col] = pd.to_numeric(df[col], errors='coerce')\n",
        "\n",
        "print(\"Tipos de datos de las columnas después de la conversión:\")\n",
        "print(df.dtypes)"
      ],
      "execution_count": 10,
      "outputs": [
        {
          "output_type": "stream",
          "name": "stdout",
          "text": [
            "Tipos de datos de las columnas después de la conversión:\n",
            "index_miiad                         int64\n",
            "borough                             int64\n",
            "neighborhood                       object\n",
            "building_class_category            object\n",
            "tax_class_at_present               object\n",
            "block                               int64\n",
            "lot                                 int64\n",
            "ease-ment                          object\n",
            "building_class_at_present          object\n",
            "address                            object\n",
            "apartment_number                   object\n",
            "zip_code                            int64\n",
            "residential_units                   int64\n",
            "commercial_units                    int64\n",
            "total_units                         int64\n",
            "land_square_feet                  float64\n",
            "gross_square_feet                 float64\n",
            "year_built                          int64\n",
            "tax_class_at_time_of_sale           int64\n",
            "building_class_at_time_of_sale     object\n",
            "sale_price                        float64\n",
            "sale_date                          object\n",
            "dtype: object\n"
          ]
        }
      ]
    }
  ]
}