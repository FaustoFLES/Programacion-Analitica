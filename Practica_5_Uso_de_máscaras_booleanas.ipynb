{
  "nbformat": 4,
  "nbformat_minor": 0,
  "metadata": {
    "colab": {
      "provenance": [],
      "authorship_tag": "ABX9TyOR0l39Dw9a0RMmX2oMzipb",
      "include_colab_link": true
    },
    "kernelspec": {
      "name": "python3",
      "display_name": "Python 3"
    },
    "language_info": {
      "name": "python"
    }
  },
  "cells": [
    {
      "cell_type": "markdown",
      "metadata": {
        "id": "view-in-github",
        "colab_type": "text"
      },
      "source": [
        "<a href=\"https://colab.research.google.com/github/FaustoFLES/Programacion-Analitica/blob/main/Practica_5_Uso_de_m%C3%A1scaras_booleanas.ipynb\" target=\"_parent\"><img src=\"https://colab.research.google.com/assets/colab-badge.svg\" alt=\"Open In Colab\"/></a>"
      ]
    },
    {
      "cell_type": "code",
      "execution_count": null,
      "metadata": {
        "id": "i2_Isz63LjCK"
      },
      "outputs": [],
      "source": []
    },
    {
      "cell_type": "code",
      "metadata": {
        "colab": {
          "base_uri": "https://localhost:8080/"
        },
        "id": "04f9f5ee",
        "outputId": "fedea969-e2aa-41af-e963-ad4c9a402fdd"
      },
      "source": [
        "import numpy as np\n",
        "\n",
        "random_array = np.random.randint(1, 51, size=15)\n",
        "print(random_array)"
      ],
      "execution_count": 8,
      "outputs": [
        {
          "output_type": "stream",
          "name": "stdout",
          "text": [
            "[27 42 23 48 12  5 34 25 48 16 14  2 31 26  1]\n"
          ]
        }
      ]
    },
    {
      "cell_type": "code",
      "metadata": {
        "colab": {
          "base_uri": "https://localhost:8080/"
        },
        "id": "2a5099a7",
        "outputId": "d20eb2e3-052a-4b73-9db5-9858326004d8"
      },
      "source": [
        "boolean_mask = random_array > 25\n",
        "elements_greater_than_25 = random_array[boolean_mask]\n",
        "print(elements_greater_than_25)"
      ],
      "execution_count": 9,
      "outputs": [
        {
          "output_type": "stream",
          "name": "stdout",
          "text": [
            "[27 42 48 34 48 31 26]\n"
          ]
        }
      ]
    },
    {
      "cell_type": "code",
      "metadata": {
        "colab": {
          "base_uri": "https://localhost:8080/"
        },
        "id": "aff20fb9",
        "outputId": "222865c0-9fa0-492b-f324-1e9222eecc0c"
      },
      "source": [
        "count_greater_than_25 = np.sum(boolean_mask)\n",
        "print(f\"El número de elementos mayores que 25 es: {count_greater_than_25}\")"
      ],
      "execution_count": 10,
      "outputs": [
        {
          "output_type": "stream",
          "name": "stdout",
          "text": [
            "El número de elementos mayores que 25 es: 7\n"
          ]
        }
      ]
    }
  ]
}