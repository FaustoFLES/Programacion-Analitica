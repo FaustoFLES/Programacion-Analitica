{
  "nbformat": 4,
  "nbformat_minor": 0,
  "metadata": {
    "colab": {
      "provenance": [],
      "mount_file_id": "11xv533yC3prDeMQWAbhGwCqNGZtRAxUP",
      "authorship_tag": "ABX9TyN21EO7zipXA0ZtifD7vrw9",
      "include_colab_link": true
    },
    "kernelspec": {
      "name": "python3",
      "display_name": "Python 3"
    },
    "language_info": {
      "name": "python"
    }
  },
  "cells": [
    {
      "cell_type": "markdown",
      "metadata": {
        "id": "view-in-github",
        "colab_type": "text"
      },
      "source": [
        "<a href=\"https://colab.research.google.com/github/FaustoFLES/Programacion-Analitica/blob/main/Pr%C3%A1ctica_14_Limpieza_y_Transformaci%C3%B3n_de_Datos_Categ%C3%B3ricos.ipynb\" target=\"_parent\"><img src=\"https://colab.research.google.com/assets/colab-badge.svg\" alt=\"Open In Colab\"/></a>"
      ]
    },
    {
      "cell_type": "code",
      "execution_count": 1,
      "metadata": {
        "colab": {
          "base_uri": "https://localhost:8080/",
          "height": 342
        },
        "id": "3W0pqA3l_kT_",
        "outputId": "c984d261-93e5-4505-8709-7f0cb5b7b2cc"
      },
      "outputs": [
        {
          "output_type": "execute_result",
          "data": {
            "text/plain": [
              "   personid  gender  birthmonth  birthyear  highestgradecompleted  \\\n",
              "0    100061  Female           5       1980                   13.0   \n",
              "1    100139    Male           9       1983                   12.0   \n",
              "2    100284    Male          11       1984                    7.0   \n",
              "3    100292    Male           4       1982                    NaN   \n",
              "4    100583    Male           1       1980                   13.0   \n",
              "\n",
              "   maritalstatus  childathome  childnotathome  wageincome  \\\n",
              "0        Married          4.0             0.0     12500.0   \n",
              "1        Married          2.0             0.0    120000.0   \n",
              "2  Never-married          1.0             0.0     58000.0   \n",
              "3            NaN          NaN             NaN         NaN   \n",
              "4        Married          4.0             0.0     30000.0   \n",
              "\n",
              "         weeklyhrscomputer  ...      colenrfeb13      colenroct13  \\\n",
              "0  10 hours or more a week  ...  1. Not enrolled  1. Not enrolled   \n",
              "1      1 to 3 hours a week  ...  1. Not enrolled  1. Not enrolled   \n",
              "2                      NaN  ...  1. Not enrolled  1. Not enrolled   \n",
              "3                      NaN  ...  1. Not enrolled  1. Not enrolled   \n",
              "4  Less than 1 hour a week  ...  1. Not enrolled  1. Not enrolled   \n",
              "\n",
              "       colenrfeb14      colenroct14      colenrfeb15      colenroct15  \\\n",
              "0  1. Not enrolled  1. Not enrolled  1. Not enrolled  1. Not enrolled   \n",
              "1  1. Not enrolled  1. Not enrolled  1. Not enrolled  1. Not enrolled   \n",
              "2  1. Not enrolled  1. Not enrolled  1. Not enrolled  1. Not enrolled   \n",
              "3  1. Not enrolled  1. Not enrolled  1. Not enrolled  1. Not enrolled   \n",
              "4  1. Not enrolled  1. Not enrolled  1. Not enrolled  1. Not enrolled   \n",
              "\n",
              "       colenrfeb16      colenroct16      colenrfeb17      colenroct17  \n",
              "0  1. Not enrolled  1. Not enrolled  1. Not enrolled  1. Not enrolled  \n",
              "1  1. Not enrolled  1. Not enrolled  1. Not enrolled  1. Not enrolled  \n",
              "2  1. Not enrolled  1. Not enrolled  1. Not enrolled  1. Not enrolled  \n",
              "3              NaN              NaN              NaN              NaN  \n",
              "4  1. Not enrolled  1. Not enrolled  1. Not enrolled  1. Not enrolled  \n",
              "\n",
              "[5 rows x 89 columns]"
            ],
            "text/html": [
              "\n",
              "  <div id=\"df-20d20922-9321-4bdc-b3f7-666e22fd1d66\" class=\"colab-df-container\">\n",
              "    <div>\n",
              "<style scoped>\n",
              "    .dataframe tbody tr th:only-of-type {\n",
              "        vertical-align: middle;\n",
              "    }\n",
              "\n",
              "    .dataframe tbody tr th {\n",
              "        vertical-align: top;\n",
              "    }\n",
              "\n",
              "    .dataframe thead th {\n",
              "        text-align: right;\n",
              "    }\n",
              "</style>\n",
              "<table border=\"1\" class=\"dataframe\">\n",
              "  <thead>\n",
              "    <tr style=\"text-align: right;\">\n",
              "      <th></th>\n",
              "      <th>personid</th>\n",
              "      <th>gender</th>\n",
              "      <th>birthmonth</th>\n",
              "      <th>birthyear</th>\n",
              "      <th>highestgradecompleted</th>\n",
              "      <th>maritalstatus</th>\n",
              "      <th>childathome</th>\n",
              "      <th>childnotathome</th>\n",
              "      <th>wageincome</th>\n",
              "      <th>weeklyhrscomputer</th>\n",
              "      <th>...</th>\n",
              "      <th>colenrfeb13</th>\n",
              "      <th>colenroct13</th>\n",
              "      <th>colenrfeb14</th>\n",
              "      <th>colenroct14</th>\n",
              "      <th>colenrfeb15</th>\n",
              "      <th>colenroct15</th>\n",
              "      <th>colenrfeb16</th>\n",
              "      <th>colenroct16</th>\n",
              "      <th>colenrfeb17</th>\n",
              "      <th>colenroct17</th>\n",
              "    </tr>\n",
              "  </thead>\n",
              "  <tbody>\n",
              "    <tr>\n",
              "      <th>0</th>\n",
              "      <td>100061</td>\n",
              "      <td>Female</td>\n",
              "      <td>5</td>\n",
              "      <td>1980</td>\n",
              "      <td>13.0</td>\n",
              "      <td>Married</td>\n",
              "      <td>4.0</td>\n",
              "      <td>0.0</td>\n",
              "      <td>12500.0</td>\n",
              "      <td>10 hours or more a week</td>\n",
              "      <td>...</td>\n",
              "      <td>1. Not enrolled</td>\n",
              "      <td>1. Not enrolled</td>\n",
              "      <td>1. Not enrolled</td>\n",
              "      <td>1. Not enrolled</td>\n",
              "      <td>1. Not enrolled</td>\n",
              "      <td>1. Not enrolled</td>\n",
              "      <td>1. Not enrolled</td>\n",
              "      <td>1. Not enrolled</td>\n",
              "      <td>1. Not enrolled</td>\n",
              "      <td>1. Not enrolled</td>\n",
              "    </tr>\n",
              "    <tr>\n",
              "      <th>1</th>\n",
              "      <td>100139</td>\n",
              "      <td>Male</td>\n",
              "      <td>9</td>\n",
              "      <td>1983</td>\n",
              "      <td>12.0</td>\n",
              "      <td>Married</td>\n",
              "      <td>2.0</td>\n",
              "      <td>0.0</td>\n",
              "      <td>120000.0</td>\n",
              "      <td>1 to 3 hours a week</td>\n",
              "      <td>...</td>\n",
              "      <td>1. Not enrolled</td>\n",
              "      <td>1. Not enrolled</td>\n",
              "      <td>1. Not enrolled</td>\n",
              "      <td>1. Not enrolled</td>\n",
              "      <td>1. Not enrolled</td>\n",
              "      <td>1. Not enrolled</td>\n",
              "      <td>1. Not enrolled</td>\n",
              "      <td>1. Not enrolled</td>\n",
              "      <td>1. Not enrolled</td>\n",
              "      <td>1. Not enrolled</td>\n",
              "    </tr>\n",
              "    <tr>\n",
              "      <th>2</th>\n",
              "      <td>100284</td>\n",
              "      <td>Male</td>\n",
              "      <td>11</td>\n",
              "      <td>1984</td>\n",
              "      <td>7.0</td>\n",
              "      <td>Never-married</td>\n",
              "      <td>1.0</td>\n",
              "      <td>0.0</td>\n",
              "      <td>58000.0</td>\n",
              "      <td>NaN</td>\n",
              "      <td>...</td>\n",
              "      <td>1. Not enrolled</td>\n",
              "      <td>1. Not enrolled</td>\n",
              "      <td>1. Not enrolled</td>\n",
              "      <td>1. Not enrolled</td>\n",
              "      <td>1. Not enrolled</td>\n",
              "      <td>1. Not enrolled</td>\n",
              "      <td>1. Not enrolled</td>\n",
              "      <td>1. Not enrolled</td>\n",
              "      <td>1. Not enrolled</td>\n",
              "      <td>1. Not enrolled</td>\n",
              "    </tr>\n",
              "    <tr>\n",
              "      <th>3</th>\n",
              "      <td>100292</td>\n",
              "      <td>Male</td>\n",
              "      <td>4</td>\n",
              "      <td>1982</td>\n",
              "      <td>NaN</td>\n",
              "      <td>NaN</td>\n",
              "      <td>NaN</td>\n",
              "      <td>NaN</td>\n",
              "      <td>NaN</td>\n",
              "      <td>NaN</td>\n",
              "      <td>...</td>\n",
              "      <td>1. Not enrolled</td>\n",
              "      <td>1. Not enrolled</td>\n",
              "      <td>1. Not enrolled</td>\n",
              "      <td>1. Not enrolled</td>\n",
              "      <td>1. Not enrolled</td>\n",
              "      <td>1. Not enrolled</td>\n",
              "      <td>NaN</td>\n",
              "      <td>NaN</td>\n",
              "      <td>NaN</td>\n",
              "      <td>NaN</td>\n",
              "    </tr>\n",
              "    <tr>\n",
              "      <th>4</th>\n",
              "      <td>100583</td>\n",
              "      <td>Male</td>\n",
              "      <td>1</td>\n",
              "      <td>1980</td>\n",
              "      <td>13.0</td>\n",
              "      <td>Married</td>\n",
              "      <td>4.0</td>\n",
              "      <td>0.0</td>\n",
              "      <td>30000.0</td>\n",
              "      <td>Less than 1 hour a week</td>\n",
              "      <td>...</td>\n",
              "      <td>1. Not enrolled</td>\n",
              "      <td>1. Not enrolled</td>\n",
              "      <td>1. Not enrolled</td>\n",
              "      <td>1. Not enrolled</td>\n",
              "      <td>1. Not enrolled</td>\n",
              "      <td>1. Not enrolled</td>\n",
              "      <td>1. Not enrolled</td>\n",
              "      <td>1. Not enrolled</td>\n",
              "      <td>1. Not enrolled</td>\n",
              "      <td>1. Not enrolled</td>\n",
              "    </tr>\n",
              "  </tbody>\n",
              "</table>\n",
              "<p>5 rows × 89 columns</p>\n",
              "</div>\n",
              "    <div class=\"colab-df-buttons\">\n",
              "\n",
              "  <div class=\"colab-df-container\">\n",
              "    <button class=\"colab-df-convert\" onclick=\"convertToInteractive('df-20d20922-9321-4bdc-b3f7-666e22fd1d66')\"\n",
              "            title=\"Convert this dataframe to an interactive table.\"\n",
              "            style=\"display:none;\">\n",
              "\n",
              "  <svg xmlns=\"http://www.w3.org/2000/svg\" height=\"24px\" viewBox=\"0 -960 960 960\">\n",
              "    <path d=\"M120-120v-720h720v720H120Zm60-500h600v-160H180v160Zm220 220h160v-160H400v160Zm0 220h160v-160H400v160ZM180-400h160v-160H180v160Zm440 0h160v-160H620v160ZM180-180h160v-160H180v160Zm440 0h160v-160H620v160Z\"/>\n",
              "  </svg>\n",
              "    </button>\n",
              "\n",
              "  <style>\n",
              "    .colab-df-container {\n",
              "      display:flex;\n",
              "      gap: 12px;\n",
              "    }\n",
              "\n",
              "    .colab-df-convert {\n",
              "      background-color: #E8F0FE;\n",
              "      border: none;\n",
              "      border-radius: 50%;\n",
              "      cursor: pointer;\n",
              "      display: none;\n",
              "      fill: #1967D2;\n",
              "      height: 32px;\n",
              "      padding: 0 0 0 0;\n",
              "      width: 32px;\n",
              "    }\n",
              "\n",
              "    .colab-df-convert:hover {\n",
              "      background-color: #E2EBFA;\n",
              "      box-shadow: 0px 1px 2px rgba(60, 64, 67, 0.3), 0px 1px 3px 1px rgba(60, 64, 67, 0.15);\n",
              "      fill: #174EA6;\n",
              "    }\n",
              "\n",
              "    .colab-df-buttons div {\n",
              "      margin-bottom: 4px;\n",
              "    }\n",
              "\n",
              "    [theme=dark] .colab-df-convert {\n",
              "      background-color: #3B4455;\n",
              "      fill: #D2E3FC;\n",
              "    }\n",
              "\n",
              "    [theme=dark] .colab-df-convert:hover {\n",
              "      background-color: #434B5C;\n",
              "      box-shadow: 0px 1px 3px 1px rgba(0, 0, 0, 0.15);\n",
              "      filter: drop-shadow(0px 1px 2px rgba(0, 0, 0, 0.3));\n",
              "      fill: #FFFFFF;\n",
              "    }\n",
              "  </style>\n",
              "\n",
              "    <script>\n",
              "      const buttonEl =\n",
              "        document.querySelector('#df-20d20922-9321-4bdc-b3f7-666e22fd1d66 button.colab-df-convert');\n",
              "      buttonEl.style.display =\n",
              "        google.colab.kernel.accessAllowed ? 'block' : 'none';\n",
              "\n",
              "      async function convertToInteractive(key) {\n",
              "        const element = document.querySelector('#df-20d20922-9321-4bdc-b3f7-666e22fd1d66');\n",
              "        const dataTable =\n",
              "          await google.colab.kernel.invokeFunction('convertToInteractive',\n",
              "                                                    [key], {});\n",
              "        if (!dataTable) return;\n",
              "\n",
              "        const docLinkHtml = 'Like what you see? Visit the ' +\n",
              "          '<a target=\"_blank\" href=https://colab.research.google.com/notebooks/data_table.ipynb>data table notebook</a>'\n",
              "          + ' to learn more about interactive tables.';\n",
              "        element.innerHTML = '';\n",
              "        dataTable['output_type'] = 'display_data';\n",
              "        await google.colab.output.renderOutput(dataTable, element);\n",
              "        const docLink = document.createElement('div');\n",
              "        docLink.innerHTML = docLinkHtml;\n",
              "        element.appendChild(docLink);\n",
              "      }\n",
              "    </script>\n",
              "  </div>\n",
              "\n",
              "\n",
              "    <div id=\"df-f9b6b139-d858-497f-a85e-ef21053b7200\">\n",
              "      <button class=\"colab-df-quickchart\" onclick=\"quickchart('df-f9b6b139-d858-497f-a85e-ef21053b7200')\"\n",
              "                title=\"Suggest charts\"\n",
              "                style=\"display:none;\">\n",
              "\n",
              "<svg xmlns=\"http://www.w3.org/2000/svg\" height=\"24px\"viewBox=\"0 0 24 24\"\n",
              "     width=\"24px\">\n",
              "    <g>\n",
              "        <path d=\"M19 3H5c-1.1 0-2 .9-2 2v14c0 1.1.9 2 2 2h14c1.1 0 2-.9 2-2V5c0-1.1-.9-2-2-2zM9 17H7v-7h2v7zm4 0h-2V7h2v10zm4 0h-2v-4h2v4z\"/>\n",
              "    </g>\n",
              "</svg>\n",
              "      </button>\n",
              "\n",
              "<style>\n",
              "  .colab-df-quickchart {\n",
              "      --bg-color: #E8F0FE;\n",
              "      --fill-color: #1967D2;\n",
              "      --hover-bg-color: #E2EBFA;\n",
              "      --hover-fill-color: #174EA6;\n",
              "      --disabled-fill-color: #AAA;\n",
              "      --disabled-bg-color: #DDD;\n",
              "  }\n",
              "\n",
              "  [theme=dark] .colab-df-quickchart {\n",
              "      --bg-color: #3B4455;\n",
              "      --fill-color: #D2E3FC;\n",
              "      --hover-bg-color: #434B5C;\n",
              "      --hover-fill-color: #FFFFFF;\n",
              "      --disabled-bg-color: #3B4455;\n",
              "      --disabled-fill-color: #666;\n",
              "  }\n",
              "\n",
              "  .colab-df-quickchart {\n",
              "    background-color: var(--bg-color);\n",
              "    border: none;\n",
              "    border-radius: 50%;\n",
              "    cursor: pointer;\n",
              "    display: none;\n",
              "    fill: var(--fill-color);\n",
              "    height: 32px;\n",
              "    padding: 0;\n",
              "    width: 32px;\n",
              "  }\n",
              "\n",
              "  .colab-df-quickchart:hover {\n",
              "    background-color: var(--hover-bg-color);\n",
              "    box-shadow: 0 1px 2px rgba(60, 64, 67, 0.3), 0 1px 3px 1px rgba(60, 64, 67, 0.15);\n",
              "    fill: var(--button-hover-fill-color);\n",
              "  }\n",
              "\n",
              "  .colab-df-quickchart-complete:disabled,\n",
              "  .colab-df-quickchart-complete:disabled:hover {\n",
              "    background-color: var(--disabled-bg-color);\n",
              "    fill: var(--disabled-fill-color);\n",
              "    box-shadow: none;\n",
              "  }\n",
              "\n",
              "  .colab-df-spinner {\n",
              "    border: 2px solid var(--fill-color);\n",
              "    border-color: transparent;\n",
              "    border-bottom-color: var(--fill-color);\n",
              "    animation:\n",
              "      spin 1s steps(1) infinite;\n",
              "  }\n",
              "\n",
              "  @keyframes spin {\n",
              "    0% {\n",
              "      border-color: transparent;\n",
              "      border-bottom-color: var(--fill-color);\n",
              "      border-left-color: var(--fill-color);\n",
              "    }\n",
              "    20% {\n",
              "      border-color: transparent;\n",
              "      border-left-color: var(--fill-color);\n",
              "      border-top-color: var(--fill-color);\n",
              "    }\n",
              "    30% {\n",
              "      border-color: transparent;\n",
              "      border-left-color: var(--fill-color);\n",
              "      border-top-color: var(--fill-color);\n",
              "      border-right-color: var(--fill-color);\n",
              "    }\n",
              "    40% {\n",
              "      border-color: transparent;\n",
              "      border-right-color: var(--fill-color);\n",
              "      border-top-color: var(--fill-color);\n",
              "    }\n",
              "    60% {\n",
              "      border-color: transparent;\n",
              "      border-right-color: var(--fill-color);\n",
              "    }\n",
              "    80% {\n",
              "      border-color: transparent;\n",
              "      border-right-color: var(--fill-color);\n",
              "      border-bottom-color: var(--fill-color);\n",
              "    }\n",
              "    90% {\n",
              "      border-color: transparent;\n",
              "      border-bottom-color: var(--fill-color);\n",
              "    }\n",
              "  }\n",
              "</style>\n",
              "\n",
              "      <script>\n",
              "        async function quickchart(key) {\n",
              "          const quickchartButtonEl =\n",
              "            document.querySelector('#' + key + ' button');\n",
              "          quickchartButtonEl.disabled = true;  // To prevent multiple clicks.\n",
              "          quickchartButtonEl.classList.add('colab-df-spinner');\n",
              "          try {\n",
              "            const charts = await google.colab.kernel.invokeFunction(\n",
              "                'suggestCharts', [key], {});\n",
              "          } catch (error) {\n",
              "            console.error('Error during call to suggestCharts:', error);\n",
              "          }\n",
              "          quickchartButtonEl.classList.remove('colab-df-spinner');\n",
              "          quickchartButtonEl.classList.add('colab-df-quickchart-complete');\n",
              "        }\n",
              "        (() => {\n",
              "          let quickchartButtonEl =\n",
              "            document.querySelector('#df-f9b6b139-d858-497f-a85e-ef21053b7200 button');\n",
              "          quickchartButtonEl.style.display =\n",
              "            google.colab.kernel.accessAllowed ? 'block' : 'none';\n",
              "        })();\n",
              "      </script>\n",
              "    </div>\n",
              "\n",
              "    </div>\n",
              "  </div>\n"
            ],
            "application/vnd.google.colaboratory.intrinsic+json": {
              "type": "dataframe",
              "variable_name": "df"
            }
          },
          "metadata": {},
          "execution_count": 1
        }
      ],
      "source": [
        "#import data\n",
        "import pandas as pd\n",
        "df = pd.read_csv('/content/drive/MyDrive/Escuela/Maestria/3er Semestre/Programacion Analitica/Class data/nls97.csv')\n",
        "df.head()\n"
      ]
    },
    {
      "cell_type": "markdown",
      "source": [
        "Ejercicio 01: Errores Tipográficos y Valores Inconsistentes: maritalstatus"
      ],
      "metadata": {
        "id": "vkpgaE2TAGOv"
      }
    },
    {
      "cell_type": "code",
      "source": [
        "print(df['maritalstatus'].unique())"
      ],
      "metadata": {
        "colab": {
          "base_uri": "https://localhost:8080/"
        },
        "id": "3LQB2PzUAKIk",
        "outputId": "6607f93e-bbe2-49d1-8d16-2c4a109f9f4f"
      },
      "execution_count": 3,
      "outputs": [
        {
          "output_type": "stream",
          "name": "stdout",
          "text": [
            "['Married' 'Never-married' nan 'Divorced' 'Separated' 'Widowed']\n"
          ]
        }
      ]
    },
    {
      "cell_type": "code",
      "metadata": {
        "colab": {
          "base_uri": "https://localhost:8080/"
        },
        "id": "d2dd70f6",
        "outputId": "a7bcb01d-aaa0-4db7-86a0-99c7681b0798"
      },
      "source": [
        "print(df['maritalstatus'].value_counts())"
      ],
      "execution_count": 4,
      "outputs": [
        {
          "output_type": "stream",
          "name": "stdout",
          "text": [
            "maritalstatus\n",
            "Married          3066\n",
            "Never-married    2766\n",
            "Divorced          663\n",
            "Separated         154\n",
            "Widowed            23\n",
            "Name: count, dtype: int64\n"
          ]
        }
      ]
    },
    {
      "cell_type": "code",
      "metadata": {
        "colab": {
          "base_uri": "https://localhost:8080/"
        },
        "id": "487df53e",
        "outputId": "aa2b23ad-713a-462c-a5a5-3714e69d856a"
      },
      "source": [
        "df['maritalstatus'] = df['maritalstatus'].replace('Never-married', 'Single')\n",
        "print(df['maritalstatus'].unique())"
      ],
      "execution_count": 5,
      "outputs": [
        {
          "output_type": "stream",
          "name": "stdout",
          "text": [
            "['Married' 'Single' nan 'Divorced' 'Separated' 'Widowed']\n"
          ]
        }
      ]
    },
    {
      "cell_type": "code",
      "source": [
        "print(df['maritalstatus'].value_counts())"
      ],
      "metadata": {
        "colab": {
          "base_uri": "https://localhost:8080/"
        },
        "id": "MSEw4bUAAgr8",
        "outputId": "29347418-edac-4965-bcf7-714f81cd61f5"
      },
      "execution_count": 6,
      "outputs": [
        {
          "output_type": "stream",
          "name": "stdout",
          "text": [
            "maritalstatus\n",
            "Married      3066\n",
            "Single       2766\n",
            "Divorced      663\n",
            "Separated     154\n",
            "Widowed        23\n",
            "Name: count, dtype: int64\n"
          ]
        }
      ]
    },
    {
      "cell_type": "markdown",
      "source": [
        "Ejercicio 02: Errores Tipográficos y Valores Inconsistentes: highestdegree."
      ],
      "metadata": {
        "id": "5uP2vSFjAndo"
      }
    },
    {
      "cell_type": "code",
      "source": [
        "print(df['highestgradecompleted'].unique())"
      ],
      "metadata": {
        "colab": {
          "base_uri": "https://localhost:8080/"
        },
        "id": "bDpH_KsbAomw",
        "outputId": "fdf4da5c-50ee-42ee-b74a-79649ac2a8ae"
      },
      "execution_count": 8,
      "outputs": [
        {
          "output_type": "stream",
          "name": "stdout",
          "text": [
            "[13. 12.  7. nan 15. 11. 20. 18. 14.  9. 16.  8. 19. 10. 17. 95.  6.  5.]\n"
          ]
        }
      ]
    },
    {
      "cell_type": "code",
      "metadata": {
        "colab": {
          "base_uri": "https://localhost:8080/"
        },
        "id": "25380913",
        "outputId": "3d93f3e7-c2e2-49c1-bc4a-bf6427d0884c"
      },
      "source": [
        "print(df['highestgradecompleted'].value_counts())"
      ],
      "execution_count": 9,
      "outputs": [
        {
          "output_type": "stream",
          "name": "stdout",
          "text": [
            "highestgradecompleted\n",
            "12.0    1389\n",
            "16.0    1016\n",
            "14.0     750\n",
            "13.0     538\n",
            "18.0     407\n",
            "15.0     397\n",
            "17.0     388\n",
            "11.0     364\n",
            "20.0     333\n",
            "10.0     329\n",
            "9.0      292\n",
            "19.0     203\n",
            "8.0      198\n",
            "7.0       31\n",
            "6.0       16\n",
            "95.0      11\n",
            "5.0        1\n",
            "Name: count, dtype: int64\n"
          ]
        }
      ]
    },
    {
      "cell_type": "code",
      "metadata": {
        "colab": {
          "base_uri": "https://localhost:8080/"
        },
        "id": "66fd9483",
        "outputId": "5241ed0c-8e65-485a-88f1-6aba75201979"
      },
      "source": [
        "def clean_grade(grade):\n",
        "    if isinstance(grade, str):\n",
        "        # Remove leading number and period, then convert to lowercase\n",
        "        parts = grade.split('. ')\n",
        "        if len(parts) > 1:\n",
        "            return parts[1].lower()\n",
        "        else:\n",
        "            return grade.lower()\n",
        "    return grade\n",
        "\n",
        "df['highestgradecompleted'] = df['highestgradecompleted'].apply(clean_grade)\n",
        "\n",
        "print(df['highestgradecompleted'].unique())\n",
        "print(df['highestgradecompleted'].value_counts())"
      ],
      "execution_count": 10,
      "outputs": [
        {
          "output_type": "stream",
          "name": "stdout",
          "text": [
            "[13. 12.  7. nan 15. 11. 20. 18. 14.  9. 16.  8. 19. 10. 17. 95.  6.  5.]\n",
            "highestgradecompleted\n",
            "12.0    1389\n",
            "16.0    1016\n",
            "14.0     750\n",
            "13.0     538\n",
            "18.0     407\n",
            "15.0     397\n",
            "17.0     388\n",
            "11.0     364\n",
            "20.0     333\n",
            "10.0     329\n",
            "9.0      292\n",
            "19.0     203\n",
            "8.0      198\n",
            "7.0       31\n",
            "6.0       16\n",
            "95.0      11\n",
            "5.0        1\n",
            "Name: count, dtype: int64\n"
          ]
        }
      ]
    },
    {
      "cell_type": "markdown",
      "source": [
        "Ejercicio 03: Alta Cardinalidad - Frecuencias Bajas"
      ],
      "metadata": {
        "id": "JBYFMiDUBirD"
      }
    },
    {
      "cell_type": "code",
      "source": [
        "df['marital_grouped'] = df['maritalstatus'].replace(['Widowed', 'Single'], 'Single/No Partner')\n",
        "print(df['marital_grouped'].value_counts())"
      ],
      "metadata": {
        "colab": {
          "base_uri": "https://localhost:8080/"
        },
        "id": "iLt2_0pqBoS-",
        "outputId": "916bda4b-5700-4f57-c980-03f30477b996"
      },
      "execution_count": 11,
      "outputs": [
        {
          "output_type": "stream",
          "name": "stdout",
          "text": [
            "marital_grouped\n",
            "Married              3066\n",
            "Single/No Partner    2789\n",
            "Divorced              663\n",
            "Separated             154\n",
            "Name: count, dtype: int64\n"
          ]
        }
      ]
    },
    {
      "cell_type": "code",
      "metadata": {
        "colab": {
          "base_uri": "https://localhost:8080/"
        },
        "id": "b968e546",
        "outputId": "f9377157-aa99-4218-93f9-5635b1ca8bd2"
      },
      "source": [
        "print(df['marital_grouped'].unique())"
      ],
      "execution_count": 12,
      "outputs": [
        {
          "output_type": "stream",
          "name": "stdout",
          "text": [
            "['Married' 'Single/No Partner' nan 'Divorced' 'Separated']\n"
          ]
        }
      ]
    },
    {
      "cell_type": "code",
      "metadata": {
        "colab": {
          "base_uri": "https://localhost:8080/"
        },
        "id": "b27745e2",
        "outputId": "0fc444d6-0d6f-4a40-b579-bc8710e580e9"
      },
      "source": [
        "print(df['marital_grouped'].value_counts())"
      ],
      "execution_count": 13,
      "outputs": [
        {
          "output_type": "stream",
          "name": "stdout",
          "text": [
            "marital_grouped\n",
            "Married              3066\n",
            "Single/No Partner    2789\n",
            "Divorced              663\n",
            "Separated             154\n",
            "Name: count, dtype: int64\n"
          ]
        }
      ]
    },
    {
      "cell_type": "markdown",
      "source": [
        "Ejercicio 04: Tipos de Datos"
      ],
      "metadata": {
        "id": "DIvKId43B9sD"
      }
    },
    {
      "cell_type": "code",
      "source": [
        "print(df['gender'].dtype)"
      ],
      "metadata": {
        "colab": {
          "base_uri": "https://localhost:8080/"
        },
        "id": "xxwjGZclCAiM",
        "outputId": "431266e8-5a32-4a94-8477-527fcafad5d6"
      },
      "execution_count": 14,
      "outputs": [
        {
          "output_type": "stream",
          "name": "stdout",
          "text": [
            "object\n"
          ]
        }
      ]
    },
    {
      "cell_type": "code",
      "metadata": {
        "colab": {
          "base_uri": "https://localhost:8080/"
        },
        "id": "19053b8e",
        "outputId": "4c4f4aa8-1f6b-48dd-854f-d3f62aaff1a2"
      },
      "source": [
        "print(df['gender'].memory_usage(deep=True))"
      ],
      "execution_count": 15,
      "outputs": [
        {
          "output_type": "stream",
          "name": "stdout",
          "text": [
            "485054\n"
          ]
        }
      ]
    },
    {
      "cell_type": "code",
      "metadata": {
        "colab": {
          "base_uri": "https://localhost:8080/"
        },
        "id": "0d098610",
        "outputId": "cf60073e-7422-4928-e16e-048b749a87a9"
      },
      "source": [
        "if df['gender'].dtype == 'object':\n",
        "    df['gender'] = df['gender'].astype('category')\n",
        "    print(\"Column 'gender' converted to category.\")\n",
        "else:\n",
        "    print(\"Column 'gender' is not of object type.\")\n",
        "\n",
        "print(df['gender'].dtype)\n",
        "print(df['gender'].memory_usage(deep=True))"
      ],
      "execution_count": 16,
      "outputs": [
        {
          "output_type": "stream",
          "name": "stdout",
          "text": [
            "Column 'gender' converted to category.\n",
            "category\n",
            "9332\n"
          ]
        }
      ]
    }
  ]
}